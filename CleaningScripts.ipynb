{
 "cells": [
  {
   "cell_type": "code",
   "execution_count": 140,
   "metadata": {},
   "outputs": [
    {
     "ename": "Error",
     "evalue": "field larger than field limit (131072)",
     "output_type": "error",
     "traceback": [
      "\u001b[1;31m---------------------------------------------------------------------------\u001b[0m",
      "\u001b[1;31mError\u001b[0m                                     Traceback (most recent call last)",
      "\u001b[1;32m<ipython-input-140-507313440fff>\u001b[0m in \u001b[0;36m<module>\u001b[1;34m\u001b[0m\n\u001b[0;32m     12\u001b[0m         \u001b[0mcsv_dict_reader\u001b[0m \u001b[1;33m=\u001b[0m \u001b[0mDictReader\u001b[0m\u001b[1;33m(\u001b[0m\u001b[0mread_obj\u001b[0m\u001b[1;33m)\u001b[0m\u001b[1;33m\u001b[0m\u001b[1;33m\u001b[0m\u001b[0m\n\u001b[0;32m     13\u001b[0m \u001b[1;33m\u001b[0m\u001b[0m\n\u001b[1;32m---> 14\u001b[1;33m         \u001b[1;32mfor\u001b[0m \u001b[0mrow\u001b[0m \u001b[1;32min\u001b[0m \u001b[0mcsv_dict_reader\u001b[0m\u001b[1;33m:\u001b[0m\u001b[1;33m\u001b[0m\u001b[1;33m\u001b[0m\u001b[0m\n\u001b[0m\u001b[0;32m     15\u001b[0m             \u001b[0mstop\u001b[0m \u001b[1;33m=\u001b[0m \u001b[1;32mFalse\u001b[0m\u001b[1;33m\u001b[0m\u001b[1;33m\u001b[0m\u001b[0m\n\u001b[0;32m     16\u001b[0m             \u001b[0mscript2\u001b[0m \u001b[1;33m=\u001b[0m \u001b[1;34m\"\"\u001b[0m\u001b[1;33m\u001b[0m\u001b[1;33m\u001b[0m\u001b[0m\n",
      "\u001b[1;32m~\\Anaconda3\\lib\\csv.py\u001b[0m in \u001b[0;36m__next__\u001b[1;34m(self)\u001b[0m\n\u001b[0;32m    110\u001b[0m             \u001b[1;31m# Used only for its side effect.\u001b[0m\u001b[1;33m\u001b[0m\u001b[1;33m\u001b[0m\u001b[1;33m\u001b[0m\u001b[0m\n\u001b[0;32m    111\u001b[0m             \u001b[0mself\u001b[0m\u001b[1;33m.\u001b[0m\u001b[0mfieldnames\u001b[0m\u001b[1;33m\u001b[0m\u001b[1;33m\u001b[0m\u001b[0m\n\u001b[1;32m--> 112\u001b[1;33m         \u001b[0mrow\u001b[0m \u001b[1;33m=\u001b[0m \u001b[0mnext\u001b[0m\u001b[1;33m(\u001b[0m\u001b[0mself\u001b[0m\u001b[1;33m.\u001b[0m\u001b[0mreader\u001b[0m\u001b[1;33m)\u001b[0m\u001b[1;33m\u001b[0m\u001b[1;33m\u001b[0m\u001b[0m\n\u001b[0m\u001b[0;32m    113\u001b[0m         \u001b[0mself\u001b[0m\u001b[1;33m.\u001b[0m\u001b[0mline_num\u001b[0m \u001b[1;33m=\u001b[0m \u001b[0mself\u001b[0m\u001b[1;33m.\u001b[0m\u001b[0mreader\u001b[0m\u001b[1;33m.\u001b[0m\u001b[0mline_num\u001b[0m\u001b[1;33m\u001b[0m\u001b[1;33m\u001b[0m\u001b[0m\n\u001b[0;32m    114\u001b[0m \u001b[1;33m\u001b[0m\u001b[0m\n",
      "\u001b[1;31mError\u001b[0m: field larger than field limit (131072)"
     ]
    }
   ],
   "source": [
    "import pandas as pd\n",
    "from csv import DictReader\n",
    "from csv import DictWriter\n",
    "import csv\n",
    "import sys\n",
    "#counter = 0\n",
    "#allEpisodes = []\n",
    "with open('clean_scripts.csv', 'w', newline='') as f:\n",
    "    writer = csv.writer(f)\n",
    "        \n",
    "    with open('seinfeld_scripts.csv', 'r') as read_obj:\n",
    "        csv_dict_reader = DictReader(read_obj)\n",
    "\n",
    "        for row in csv_dict_reader:\n",
    "            stop = False\n",
    "            script2 = \"\"\n",
    "            script3 = \"\"\n",
    "            script4 = \"\"\n",
    "            script5 = \"\"\n",
    "            script6 = \"\"\n",
    "            counterEnds = 0\n",
    "            cleanedScript = \"\"\n",
    "\n",
    "            for word in row['text'].split(' '):\n",
    "                script2 = script2 + ' ' + word\n",
    "\n",
    "            for word in script2.split(' '):\n",
    "                if '(' in word:\n",
    "                    stop = True\n",
    "\n",
    "                if not stop:\n",
    "                    script3 = script3 + \" \" + word\n",
    "\n",
    "                if ')' in word:\n",
    "                    stop = False\n",
    "\n",
    "\n",
    "            stop = False\n",
    "\n",
    "            for word in script3.split(' '):\n",
    "                if len(word) > 0 and \"\\n\" not in word:\n",
    "                    script4 = script4 + \" \" + word\n",
    "            Written = 0;\n",
    "            for word in script4.split(' '):\n",
    "                tempWord = \"\"\n",
    "                for letter in word:\n",
    "                    if letter == \".\" or letter == \"!\" or letter == \"?\" or letter==\"&\" or letter==\";\" or letter==\":\":\n",
    "                        tempWord = tempWord + \" \"\n",
    "                    else:\n",
    "                        tempWord = tempWord + letter\n",
    "                if Written == 1:\n",
    "                    cleanedScript = cleanedScript + \" \" + tempWord\n",
    "                if tempWord == \"Written\":\n",
    "                    Written = 1;\n",
    "            cleanedScript = cleanedScript.replace(\"Larry David  amp \",\"\",1)    \n",
    "            #allEpisodes.append(cleanedScript)\n",
    "            writer.writerow([cleanedScript])\n",
    "            #print(cleanedScript)\n",
    "            #print(\"------------------------------------------------------------------\")\n",
    "\n",
    "            #counter += 1\n",
    "            #if counter == 1:\n",
    "                #break\n",
    "\n",
    "\n"
   ]
  },
  {
   "cell_type": "code",
   "execution_count": 138,
   "metadata": {},
   "outputs": [],
   "source": [
    "with open('clean_scripts.csv', 'w', newline='') as f:\n",
    "    writer = csv.writer(f)\n",
    "    for text in allEpisodes:\n",
    "        writer.writerow([text])"
   ]
  },
  {
   "cell_type": "code",
   "execution_count": null,
   "metadata": {},
   "outputs": [],
   "source": []
  }
 ],
 "metadata": {
  "kernelspec": {
   "display_name": "Python 3",
   "language": "python",
   "name": "python3"
  },
  "language_info": {
   "codemirror_mode": {
    "name": "ipython",
    "version": 3
   },
   "file_extension": ".py",
   "mimetype": "text/x-python",
   "name": "python",
   "nbconvert_exporter": "python",
   "pygments_lexer": "ipython3",
   "version": "3.7.4"
  }
 },
 "nbformat": 4,
 "nbformat_minor": 2
}
